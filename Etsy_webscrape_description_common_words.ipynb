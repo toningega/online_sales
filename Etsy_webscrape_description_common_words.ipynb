{
 "cells": [
  {
   "cell_type": "code",
   "execution_count": 1,
   "metadata": {},
   "outputs": [],
   "source": [
    "import pandas as pd\n",
    "import numpy as np\n",
    "from bs4 import BeautifulSoup\n",
    "from urllib.request import urlopen\n",
    "import re"
   ]
  },
  {
   "cell_type": "markdown",
   "metadata": {},
   "source": [
    "### Using 'Jewellery' as an example search "
   ]
  },
  {
   "cell_type": "code",
   "execution_count": 2,
   "metadata": {},
   "outputs": [],
   "source": [
    "pages = 'https://www.etsy.com/uk/search?q=Jewelry&ref=pagination&page='\n",
    "# this is the string where we will compile all the descriptions\n",
    "description = '' \n",
    "\n",
    "#loop through first 10 pages of descriptions\n",
    "for page_number in range(1,11):\n",
    "    page = pages + str(page_number) \n",
    "    openpage = urlopen(page)\n",
    "    soup = BeautifulSoup(openpage,'lxml')\n",
    "    # description contained within the p tag with class of \"text-gray text-truncate mb-xs-0 text-body\"\n",
    "    link_list=soup.findAll('p',class_=\"text-gray text-truncate mb-xs-0 text-body\")  \n",
    "    # loop through all the descriptions on each page\n",
    "    for descr in link_list:\n",
    "        description = description + ' ' + descr.find(text=True).strip()\n",
    "#description"
   ]
  },
  {
   "cell_type": "code",
   "execution_count": 21,
   "metadata": {},
   "outputs": [
    {
     "data": {
      "text/html": [
       "<div>\n",
       "<style scoped>\n",
       "    .dataframe tbody tr th:only-of-type {\n",
       "        vertical-align: middle;\n",
       "    }\n",
       "\n",
       "    .dataframe tbody tr th {\n",
       "        vertical-align: top;\n",
       "    }\n",
       "\n",
       "    .dataframe thead th {\n",
       "        text-align: right;\n",
       "    }\n",
       "</style>\n",
       "<table border=\"1\" class=\"dataframe\">\n",
       "  <thead>\n",
       "    <tr style=\"text-align: right;\">\n",
       "      <th></th>\n",
       "      <th>Words</th>\n",
       "    </tr>\n",
       "  </thead>\n",
       "  <tbody>\n",
       "    <tr>\n",
       "      <th>0</th>\n",
       "      <td>jewelry</td>\n",
       "    </tr>\n",
       "    <tr>\n",
       "      <th>1</th>\n",
       "      <td>shield</td>\n",
       "    </tr>\n",
       "    <tr>\n",
       "      <th>2</th>\n",
       "      <td>skin</td>\n",
       "    </tr>\n",
       "    <tr>\n",
       "      <th>3</th>\n",
       "      <td>protection</td>\n",
       "    </tr>\n",
       "    <tr>\n",
       "      <th>4</th>\n",
       "      <td>allergy</td>\n",
       "    </tr>\n",
       "  </tbody>\n",
       "</table>\n",
       "</div>"
      ],
      "text/plain": [
       "        Words\n",
       "0     jewelry\n",
       "1      shield\n",
       "2        skin\n",
       "3  protection\n",
       "4     allergy"
      ]
     },
     "execution_count": 21,
     "metadata": {},
     "output_type": "execute_result"
    }
   ],
   "source": [
    "# Creating a list of words in our description\n",
    "word_list = []\n",
    "for word in description.split():\n",
    "    # Removing all non alphanumeric values\n",
    "    word = re.sub(r'[^\\w\\s]','',word).lower()\n",
    "    # Get rid of empty string caused by previous step and add to list\n",
    "    if word != '':\n",
    "        word_list.append(word)\n",
    "    else:\n",
    "        None\n",
    "\n",
    "# Create a dataframe from list to take advantage of pandas\n",
    "word_df = pd.DataFrame(\n",
    "    {'Words': word_list\n",
    "    })\n",
    "word_df.head()"
   ]
  },
  {
   "cell_type": "markdown",
   "metadata": {},
   "source": [
    "### Best tags to use\n",
    "\n",
    "Etsy allows 13 tags for each item, as we can see some function words such as 'for','and'. \n",
    "Also we have an example of both British and American versions of the word 'jewellery' (I'm British). \n",
    "These are still a good start for creating effective tags and helping to come up with a product description"
   ]
  },
  {
   "cell_type": "code",
   "execution_count": 22,
   "metadata": {},
   "outputs": [
    {
     "data": {
      "text/plain": [
       "Words\n",
       "jewellery    711\n",
       "necklace     544\n",
       "jewelry      424\n",
       "gift         381\n",
       "earrings     344\n",
       "bracelet     341\n",
       "silver       219\n",
       "for          196\n",
       "pendant      184\n",
       "gold         128\n",
       "and          105\n",
       "sterling      75\n",
       "her           73\n",
       "dtype: int64"
      ]
     },
     "execution_count": 22,
     "metadata": {},
     "output_type": "execute_result"
    }
   ],
   "source": [
    "word_df.groupby('Words').size().sort_values(ascending = False).head(13)"
   ]
  },
  {
   "cell_type": "markdown",
   "metadata": {},
   "source": [
    "TODO: I could take into consideration some stop words and remove them from the search similar to some of my other NLP projects. "
   ]
  },
  {
   "cell_type": "code",
   "execution_count": null,
   "metadata": {},
   "outputs": [],
   "source": []
  }
 ],
 "metadata": {
  "kernelspec": {
   "display_name": "Python 3",
   "language": "python",
   "name": "python3"
  },
  "language_info": {
   "codemirror_mode": {
    "name": "ipython",
    "version": 3
   },
   "file_extension": ".py",
   "mimetype": "text/x-python",
   "name": "python",
   "nbconvert_exporter": "python",
   "pygments_lexer": "ipython3",
   "version": "3.6.5"
  }
 },
 "nbformat": 4,
 "nbformat_minor": 2
}
